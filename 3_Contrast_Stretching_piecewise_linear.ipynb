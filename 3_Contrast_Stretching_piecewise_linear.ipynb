{
  "nbformat": 4,
  "nbformat_minor": 0,
  "metadata": {
    "colab": {
      "name": "2.Contrast Stretching_piecewise linear.ipynb",
      "version": "0.3.2",
      "provenance": [],
      "collapsed_sections": []
    },
    "kernelspec": {
      "name": "python3",
      "display_name": "Python 3"
    }
  },
  "cells": [
    {
      "cell_type": "markdown",
      "metadata": {
        "id": "k1bogX_UYAt5",
        "colab_type": "text"
      },
      "source": [
        "# Contrast Stretching_piecewise linear transformation\n",
        "\n",
        "\n",
        "**\"wiki, contrast is the diffrence in luminance or color that makes an object distinguishable from other object within same field of view \"**\n",
        "\n",
        "**Cause of low contrast images**\n",
        "1. poor illumination\n",
        "2.lack of dynamic range in the image sensor\n",
        "3.wrong setting of lens aperture during image acquisition\n",
        "\n",
        "Types contrast enhancement\n",
        "1. Global: Increases the contrast of whole image\n",
        "2.Local: we divide the image in small regions and perform contrast enhancement on these regions independently.\n",
        "\n",
        "\n",
        "Contrast enhancement techniques can be divided into \n",
        "1. Linear\n",
        "    *   Piecewise\n",
        "\n",
        "2. Non Linear\n",
        "    *  Histogram Equalization\n",
        "    *   Gaussian stretch\n",
        "    \n",
        "\n",
        "\n",
        "\n",
        "\n",
        "**Piecewise Linear Transformation**\n",
        "\n",
        "\n",
        "![alt text](https://www.researchgate.net/profile/Hossein_Parsaei/publication/325946537/figure/fig3/AS:640608691568640@1529744422006/Applying-piecewise-linear-transformation-functions-to-image-brightness-22_Q320.jpg)\n",
        "\n",
        "by changing locations of points (r1,s1) &(r2,s2) we can control shape of the transformation\n",
        "\n",
        "*   when r1=s1 and r2=s2, transformation becomes linear\n",
        "*   when r1=r2, s1=0, s2=L-1 represents threshholding function\n",
        "*   **min-max stretching** : Lower and upper values are made to span full dynamic range\n",
        "lower value of input image is mapped to 0 & upper values is mapped to 255\n",
        "    *    when (r1,s1)=(rmin,0)&(r2,s2)= (rmax, L-1)\n",
        "* **Percentile stretching** : when min-max stretching is performed, the tail ends of histogram becomes long and resulting in no improvement in the image quality so it is better to clip a certain percentage like 1%, 2% of data from tail ends of the input image histogram. this is known as percentile stretching.\n",
        "  *   when (r1,s1)=(rmin+c , 0)\n",
        "  *   (r2,s2)=(rmax-c, 0)\n",
        "\n",
        "\n",
        "                \n",
        "                \n",
        "\n",
        "\n",
        "\n",
        "\n",
        "\n"
      ]
    },
    {
      "cell_type": "code",
      "metadata": {
        "id": "kUZd7wGwX-5-",
        "colab_type": "code",
        "colab": {}
      },
      "source": [
        "import cv2\n",
        "import numpy as np\n",
        "\n",
        "#read the image\n",
        "img=cv2.imread('gray.png',0)\n",
        "\n",
        "\n",
        "\n",
        "#create zeros array to store the stretched image\n",
        "minmax_img=np.zeros((img.shape[0],img.shape[1]),dtype='uint8')\n",
        "\n",
        "#loop over the image and apply min-max formula\n",
        "for i in range(img.shape[0]):\n",
        "    for j in range(img.shape[1]):\n",
        "        minmax_img[i,j]=255*(img[i,j]-np.min(img))/(np.max(img)-np.min(img))\n",
        "\n",
        "#display stretched image\n",
        "cv2.imshow('Minmax',minmax_img)"
      ],
      "execution_count": 0,
      "outputs": []
    }
  ]
}