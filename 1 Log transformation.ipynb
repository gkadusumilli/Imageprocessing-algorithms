{
  "nbformat": 4,
  "nbformat_minor": 0,
  "metadata": {
    "colab": {
      "name": "1. Log transformation.ipynb",
      "version": "0.3.2",
      "provenance": [],
      "collapsed_sections": []
    },
    "kernelspec": {
      "name": "python3",
      "display_name": "Python 3"
    }
  },
  "cells": [
    {
      "cell_type": "markdown",
      "metadata": {
        "id": "k1bogX_UYAt5",
        "colab_type": "text"
      },
      "source": [
        "# Log Transformation\n",
        "Log transformation means replacing each pixel value with its logarithm\n",
        "the General form of log transformation is   S= T(r)=c*log(1+r) where s&r-output & input pixels respectively, c-scsling constant represented by following expression for 8-bit\n",
        "where, c=255/log(1+ max_input_pixel_value)\n",
        "       value of 'c' is chosen such that we get a maximum output value corosponding to bit size used\n",
        "# applications of log transformation \n",
        "1. Expands the dark pixels in the image while corosponding the brighter pixels\n",
        "2. Compresses the dynanmic range\n",
        "\n",
        "Dynamic range refers to the ratio of max & min intensity values. When the dynamic range of image is greater than that of displaying device (like in fourier transform),the lower values are supressed to overcome this issue, we use log transform.\n",
        "log transformation first compresses the dynamic range and then upscales the image to a dynamic range of display devices. In other words, lower values are enhanced and thus the image show more details\n"
      ]
    },
    {
      "cell_type": "code",
      "metadata": {
        "id": "kUZd7wGwX-5-",
        "colab_type": "code",
        "colab": {}
      },
      "source": [
        "import cv2\n",
        "import numpy as np\n",
        "\n",
        "\n",
        "\n",
        "img1=cv2.imread(\"g.jpeg\")   # specify the path to read an image \n",
        "img = cv2.cvtColor(img1, cv2.COLOR_BGR2GRAY)\n",
        "\n",
        "\n",
        "#log transformation formula\n",
        "img_log=(np.log(img+1)/(np.log(1+np.max(img))))*255\n",
        "\n",
        "#specify datatype\n",
        "img_log=np.array(img_log,dtype=np.uint8)\n",
        "\n",
        "#display the image\n",
        "cv2.imshow('log image',img_log)\n",
        "cv2.imshow('original',img)"
      ],
      "execution_count": 0,
      "outputs": []
    }
  ]
}