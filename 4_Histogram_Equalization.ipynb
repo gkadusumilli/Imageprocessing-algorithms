{
  "nbformat": 4,
  "nbformat_minor": 0,
  "metadata": {
    "colab": {
      "name": "4.Histogram Equalization.ipynb",
      "version": "0.3.2",
      "provenance": [],
      "collapsed_sections": []
    },
    "kernelspec": {
      "name": "python3",
      "display_name": "Python 3"
    }
  },
  "cells": [
    {
      "cell_type": "markdown",
      "metadata": {
        "id": "k1bogX_UYAt5",
        "colab_type": "text"
      },
      "source": [
        "# Histogram Equalization\n",
        "![Histogram equalization](https://upload.wikimedia.org/wikipedia/commons/thumb/c/ca/Histogrammeinebnung.png/300px-Histogrammeinebnung.png)\n",
        "\n",
        "Histogram equalization is a technique for adjusting image intensities to enhance contrast.\n",
        "\n"
      ]
    },
    {
      "cell_type": "code",
      "metadata": {
        "id": "kUZd7wGwX-5-",
        "colab_type": "code",
        "colab": {}
      },
      "source": [
        "# import Opencv \n",
        "import cv2 \n",
        "  \n",
        "# import Numpy \n",
        "import numpy as np \n",
        "  \n",
        "# read a image using imread \n",
        "img = cv2.imread('gray.png', 0) \n",
        "  \n",
        "# creating a Histograms Equalization \n",
        "# of a image using cv2.equalizeHist() \n",
        "equ = cv2.equalizeHist(img) \n",
        "  \n",
        "\n",
        "  \n",
        "# show image input vs output \n",
        "cv2.imshow('image',equ)\n",
        "cv2.imshow('original',img)\n",
        "  \n",
        "cv2.waitKey(0) \n",
        "cv2.destroyAllWindows()"
      ],
      "execution_count": 0,
      "outputs": []
    }
  ]
}