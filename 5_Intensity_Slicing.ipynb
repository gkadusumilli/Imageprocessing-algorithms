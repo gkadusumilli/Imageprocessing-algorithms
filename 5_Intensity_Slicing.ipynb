{
  "nbformat": 4,
  "nbformat_minor": 0,
  "metadata": {
    "colab": {
      "name": "5.Intensity Slicing.ipynb",
      "version": "0.3.2",
      "provenance": [],
      "collapsed_sections": []
    },
    "kernelspec": {
      "name": "python3",
      "display_name": "Python 3"
    }
  },
  "cells": [
    {
      "cell_type": "markdown",
      "metadata": {
        "id": "k1bogX_UYAt5",
        "colab_type": "text"
      },
      "source": [
        "# Intensity Slicing\n",
        "\n",
        "Intensity level slicing means highlighting a specific range of intensities in an image\n",
        "\n",
        "suppose an image, ROI always take value between say 80 to 150, so intensity level slicing highlights this range and now instead of looking at the whole image one can focus on highlighted Region of Interest\n",
        "\n",
        "**Basic type of slicing**\n",
        "1. we display the desired range of intensities in white and supress all other intensities to black or vice versa this results in binary image\n",
        "\n",
        "![Intensity level slicing](https://i0.wp.com/theailearner.com/wp-content/uploads/2019/01/binary-slicing.png?w=626&ssl=1)\n",
        "\n",
        "2. We brighten or darken the desired range of intensities (a to b) and leave other intensities unchanged or vice versa. the transformation function for both cases\n",
        "\n",
        "![alt text](https://i1.wp.com/theailearner.com/wp-content/uploads/2019/01/sliced.png?w=626&ssl=1)\n",
        "\n",
        "\n",
        "\n",
        "Histogram equalization is a technique for adjusting image intensities to enhance contrast.\n",
        "\n"
      ]
    },
    {
      "cell_type": "code",
      "metadata": {
        "id": "kUZd7wGwX-5-",
        "colab_type": "code",
        "colab": {}
      },
      "source": [
        "import cv2\n",
        "import numpy as np\n",
        "# Load the image\n",
        "img = cv2.imread('D:/downloads/g.jpg',0)\n",
        "# Find width and height of image\n",
        "row, column = img.shape\n",
        "# Create an zeros array to store the sliced image\n",
        "img1 = np.zeros((row,column),dtype = 'uint8')\n",
        " \n",
        "# Specify the min and max range\n",
        "min_range = 10\n",
        "max_range = 60\n",
        " \n",
        "# Loop over the input image and if pixel value lies in desired range set it to 255 otherwise set it to 0.\n",
        "for i in range(row):\n",
        "    for j in range(column):\n",
        "        if img[i,j]>min_range and img[i,j]<max_range:\n",
        "            img1[i,j] = 255\n",
        "        else:\n",
        "            img1[i,j] = 0\n",
        "# Display the image\n",
        "cv2.imshow('sliced image', img1)\n",
        "cv2.waitKey(0)"
      ],
      "execution_count": 0,
      "outputs": []
    }
  ]
}