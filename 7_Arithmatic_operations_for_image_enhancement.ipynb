{
  "nbformat": 4,
  "nbformat_minor": 0,
  "metadata": {
    "colab": {
      "name": "7.Arithmatic operations for image enhancement.ipynb",
      "version": "0.3.2",
      "provenance": [],
      "collapsed_sections": []
    },
    "kernelspec": {
      "name": "python3",
      "display_name": "Python 3"
    }
  },
  "cells": [
    {
      "cell_type": "markdown",
      "metadata": {
        "id": "k1bogX_UYAt5",
        "colab_type": "text"
      },
      "source": [
        "# Arithmatic operations for image enhancement\n",
        "\n",
        "Image Addition is also known as Image Averaging\n",
        "\n",
        "Image Averaging\n",
        "This is based on assumptions that noise present in the image is purely random(un correlated) and thus has zero value so if we arrange 'n' noisy images of same source, the noise will cancel out and what we get is approximately the original image.\n",
        "\n",
        "Advantages\n",
        "1. Reduce noise without compromising image details unlike most other operations like filtering\n",
        "\n",
        "Disadvantgaes\n",
        "1. Increases time and storage as now one needs to take multiple photos of the same object only applicable for random noise.\n",
        "\n",
        "\n",
        "\n",
        "\n"
      ]
    },
    {
      "cell_type": "code",
      "metadata": {
        "id": "kUZd7wGwX-5-",
        "colab_type": "code",
        "colab": {}
      },
      "source": [
        "import cv2\n",
        "import numpy as np\n",
        "\n",
        "#load the original image\n",
        "img=cv2.imread('g.jpeg')\n",
        "images=[]\n",
        "for _ in range(20):\n",
        "    img1=img.copy()\n",
        "    cv2.randn(img1,(0,0,0),(50,50,50))\n",
        "    images.append(img+img1)\n",
        "#for averaging create an empty array then add images to this array\n",
        "    img_avg=np.zeros((img.shape[0],img.shape[1],img.shape[2]),np.float32)\n",
        "    for im in images:\n",
        "        img_avg=img_avg+im/20\n",
        "#roundoff the float values,always specify the dtype\n",
        "        img_avg=np.array(np.round(img_avg),dtype=np.uint8)\n",
        "\n",
        "#display the iamges\n",
        "    cv2.imshow('average_img',img_avg)\n",
        "    cv2.imshow('original_img',img)\n",
        "    cv2.imshow('noisy_images',images[1])\n",
        "    cv2.waitKey(0)"
      ],
      "execution_count": 0,
      "outputs": []
    }
  ]
}