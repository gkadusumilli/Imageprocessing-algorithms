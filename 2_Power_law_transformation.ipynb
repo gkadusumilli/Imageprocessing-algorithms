{
  "nbformat": 4,
  "nbformat_minor": 0,
  "metadata": {
    "colab": {
      "name": "2. Power law transformation.ipynb",
      "version": "0.3.2",
      "provenance": [],
      "collapsed_sections": []
    },
    "kernelspec": {
      "name": "python3",
      "display_name": "Python 3"
    }
  },
  "cells": [
    {
      "cell_type": "markdown",
      "metadata": {
        "id": "k1bogX_UYAt5",
        "colab_type": "text"
      },
      "source": [
        "# Power Transformation\n",
        "\n",
        "***\"human eye perceives color and luminance diffrently than the sensor on our smart phone\"\n",
        "\n",
        "general form of power law(gamma) transformation is\n",
        "s = c*r^y   **s** -output image pixels, **r**- input image pixels\n",
        "\n",
        "\n",
        "**y(gamma)<1** --- will shift the image towards darker end of spectrum\n",
        "**y(gamma)>1** ---Will make image appear lighter\n",
        "**y(gamma)=1** ---no effect.\n",
        "\n",
        "**r** ---Input image pixels must be scaled in the range [0,255] to [0,1] and then multiplied by scaling constant 'c' corospond to bitsize used.\n",
        "\n",
        "if images are not gamma encoded they allocate less bits for dark tones and  too many bits for bright tones which is not required as human eyes cannot diffrentiate variation in bright tones so by gamma encoding, we can remove this artifact.\n",
        "\n",
        "Images which are not properly corrected can look either bleached out or too dark."
      ]
    },
    {
      "cell_type": "code",
      "metadata": {
        "id": "kUZd7wGwX-5-",
        "colab_type": "code",
        "colab": {}
      },
      "source": [
        "import cv2\n",
        "import numpy as np \n",
        "\n",
        "img=cv2.imread(\"g.jpeg\")\n",
        "\n",
        "#applying gamma=2.2 on the normalized image and then multiply by scaling constant(for 8 bit c=255)\n",
        "\n",
        "gamma_two_point_two= np.array(255*(img/255)**2.2,dtype='uint8')\n",
        "\n",
        "\n",
        "#similarly you can check with gamma=0.4\n",
        "\n",
        "gamma_zero_point_four= np.array(255*(img/255)**0.4,dtype='uint8')\n",
        "\n",
        "\n",
        "#displaying images in subplot\n",
        "\n",
        "img3=cv2.hconcat([gamma_two_point_two],[gamma_zero_point_four])\n",
        "\n",
        "cv2.imshow('powerlaw',img3)\n",
        "cv2.waitkey(0)"
      ],
      "execution_count": 0,
      "outputs": []
    }
  ]
}