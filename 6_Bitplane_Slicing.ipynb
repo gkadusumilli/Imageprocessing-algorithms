{
  "nbformat": 4,
  "nbformat_minor": 0,
  "metadata": {
    "colab": {
      "name": "6.Bitplane Slicing.ipynb",
      "version": "0.3.2",
      "provenance": [],
      "collapsed_sections": []
    },
    "kernelspec": {
      "name": "python3",
      "display_name": "Python 3"
    }
  },
  "cells": [
    {
      "cell_type": "markdown",
      "metadata": {
        "id": "k1bogX_UYAt5",
        "colab_type": "text"
      },
      "source": [
        "# Bit plane Slicing\n",
        "\n",
        "for an 8 bit image, a pixel value ***0*** is represented as ***00000000*** in binary form and value ***255*** is encoded as ***11111111***\n",
        "leftmost bit is known as MSB as it contributes the maximum.\n",
        "\n",
        "eg: if MSB of 11111111is changed to 01111111, then the value changes from 255 to 127\n",
        "\n",
        "similarly rightmost bit is known as Least Significant Bit(LSB)\n",
        "\n",
        "In Bit Plane Slicing, we divide an image into bit planes this is done by first by converting the pixel values in the binary form and then dividing into bitplanes \n",
        "\n",
        "![alt text](https://i1.wp.com/theailearner.com/wp-content/uploads/2019/01/bit-plane-slicing.png?w=662&ssl=1)\n",
        "\n",
        "**Pros**\n",
        "1. Image Conversion.\n",
        "2. Converting a graylevel image to binary image.\n",
        "In general, Images are reconstructed from bit plane is similar to applying some Intensity transformation function to the original image\n",
        "3.We can analyze relative importance of each bit in the image that help in determining the number of bits used to quantize the image.\n",
        "\n",
        "\n",
        "\n",
        "\n",
        "\n"
      ]
    },
    {
      "cell_type": "code",
      "metadata": {
        "id": "kUZd7wGwX-5-",
        "colab_type": "code",
        "colab": {}
      },
      "source": [
        "import numpy as np\n",
        "import cv2\n",
        "# Read the image in greyscale\n",
        "img = cv2.imread('g.jpeg',0)\n",
        "\n",
        "#Iterate over each pixel and change pixel value to binary using np.binary_repr() and store it in a list.\n",
        "lst = []\n",
        "for i in range(img.shape[0]):\n",
        "    for j in range(img.shape[1]):\n",
        "         lst.append(np.binary_repr(img[i][j] ,width=8)) # width = no. of bits\n",
        "\n",
        "# We have a list of strings where each string represents binary pixel value. To extract bit planes we need to iterate over the strings and store the characters corresponding to bit planes into lists.\n",
        "# Multiply with 2^(n-1) and reshape to reconstruct the bit image.\n",
        "eight_bit_img = (np.array([int(i[0]) for i in lst],dtype = np.uint8) * 128).reshape(img.shape[0],img.shape[1])\n",
        "seven_bit_img = (np.array([int(i[1]) for i in lst],dtype = np.uint8) * 64).reshape(img.shape[0],img.shape[1])\n",
        "six_bit_img = (np.array([int(i[2]) for i in lst],dtype = np.uint8) * 32).reshape(img.shape[0],img.shape[1])\n",
        "five_bit_img = (np.array([int(i[3]) for i in lst],dtype = np.uint8) * 16).reshape(img.shape[0],img.shape[1])\n",
        "four_bit_img = (np.array([int(i[4]) for i in lst],dtype = np.uint8) * 8).reshape(img.shape[0],img.shape[1])\n",
        "three_bit_img = (np.array([int(i[5]) for i in lst],dtype = np.uint8) * 4).reshape(img.shape[0],img.shape[1])\n",
        "two_bit_img = (np.array([int(i[6]) for i in lst],dtype = np.uint8) * 2).reshape(img.shape[0],img.shape[1])\n",
        "one_bit_img = (np.array([int(i[7]) for i in lst],dtype = np.uint8) * 1).reshape(img.shape[0],img.shape[1])\n",
        "\n",
        "#Concatenate these images for ease of display using cv2.hconcat()\n",
        "finalr = cv2.hconcat([eight_bit_img,seven_bit_img,six_bit_img,five_bit_img])\n",
        "finalv =cv2.hconcat([four_bit_img,three_bit_img,two_bit_img,one_bit_img])\n",
        "\n",
        "# Vertically concatenate\n",
        "final = cv2.vconcat([finalr,finalv])\n",
        "\n",
        "# Display the images\n",
        "cv2.imshow('a',final)\n",
        "cv2.waitKey(0) "
      ],
      "execution_count": 0,
      "outputs": []
    }
  ]
}